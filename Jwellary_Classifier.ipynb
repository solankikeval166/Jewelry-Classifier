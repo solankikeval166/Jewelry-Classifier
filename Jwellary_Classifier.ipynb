{
 "cells": [
  {
   "cell_type": "code",
   "execution_count": 1,
   "id": "b352cb78",
   "metadata": {},
   "outputs": [],
   "source": [
    "import numpy as np \n",
    "import pandas as pd \n",
    "import matplotlib.pyplot as plt\n",
    "import cv2\n",
    "import random\n",
    "import os\n",
    "\n",
    "from tensorflow import keras\n",
    "from tensorflow.keras.preprocessing.image import ImageDataGenerator\n",
    "from tensorflow.keras.layers import GlobalAveragePooling2D,GlobalMaxPooling2D\n",
    "from tensorflow.keras.models import Model,Sequential\n",
    "from sklearn.metrics import confusion_matrix,classification_report"
   ]
  },
  {
   "cell_type": "code",
   "execution_count": 2,
   "id": "179d4519",
   "metadata": {},
   "outputs": [],
   "source": [
    "train_gen = ImageDataGenerator(rotation_range=20,\n",
    "                              width_shift_range=0.1,\n",
    "                              height_shift_range=0.1,\n",
    "                              horizontal_flip=True,\n",
    "                              vertical_flip=True,\n",
    "                              rescale=1./255,\n",
    "                              validation_split=0.2)\n",
    "\n",
    "test_gen = ImageDataGenerator(rescale=1./255)"
   ]
  },
  {
   "cell_type": "code",
   "execution_count": 3,
   "id": "1de09bc4",
   "metadata": {},
   "outputs": [
    {
     "name": "stdout",
     "output_type": "stream",
     "text": [
      "Found 393 images belonging to 2 classes.\n",
      "Found 97 images belonging to 2 classes.\n",
      "Found 490 images belonging to 2 classes.\n"
     ]
    }
   ],
   "source": [
    "train_set = train_gen.flow_from_directory('Jwellery_Data',\n",
    "                                         target_size=[262,262],\n",
    "                                         color_mode='rgb', \n",
    "                                         class_mode=\"binary\", \n",
    "                                         batch_size = 8, \n",
    "                                         shuffle=True,\n",
    "                                         subset='training') \n",
    "\n",
    "val_set = train_gen.flow_from_directory('Jwellery_Data',\n",
    "                                         target_size=[262,262],\n",
    "                                         color_mode='rgb', \n",
    "                                         class_mode=\"binary\", \n",
    "                                         batch_size = 8, \n",
    "                                         shuffle=True,\n",
    "                                         subset='validation') \n",
    "\n",
    "test_set = test_gen.flow_from_directory('Jwellery_Data', \n",
    "                                        target_size=[262,262],                                    \n",
    "                                        color_mode='rgb', \n",
    "                                        class_mode=\"binary\",\n",
    "                                        batch_size = 8)\n",
    "                                      "
   ]
  },
  {
   "cell_type": "code",
   "execution_count": 4,
   "id": "d310db1d",
   "metadata": {},
   "outputs": [
    {
     "data": {
      "text/plain": [
       "{'necklace': 0, 'ring': 1}"
      ]
     },
     "execution_count": 4,
     "metadata": {},
     "output_type": "execute_result"
    }
   ],
   "source": [
    "train_set.class_indices"
   ]
  },
  {
   "cell_type": "code",
   "execution_count": 5,
   "id": "a6cd6aa4",
   "metadata": {},
   "outputs": [
    {
     "data": {
      "text/plain": [
       "{'necklace': 0, 'ring': 1}"
      ]
     },
     "execution_count": 5,
     "metadata": {},
     "output_type": "execute_result"
    }
   ],
   "source": [
    "val_set.class_indices"
   ]
  },
  {
   "cell_type": "code",
   "execution_count": 6,
   "id": "b63a46a2",
   "metadata": {},
   "outputs": [],
   "source": [
    "model0 = Sequential()\n",
    "\n",
    "model0.add(layers.Conv2D(32, (3, 3), activation='relu', input_shape=(262, 262, 3)))\n",
    "model0.add(layers.MaxPooling2D((2, 2)))\n",
    "\n",
    "model0.add(layers.Conv2D(64, (3, 3), activation='relu'))\n",
    "model0.add(layers.MaxPooling2D((2, 2)))\n",
    "\n",
    "model0.add(layers.Conv2D(128, (3, 3), activation='relu'))\n",
    "model0.add(layers.MaxPooling2D((2, 2)))\n",
    "\n",
    "model0.add(layers.Conv2D(128, (3, 3), activation='relu'))\n",
    "model0.add(layers.MaxPooling2D((2, 2)))\n",
    "\n",
    "model0.add(layers.Flatten())\n",
    "\n",
    "model0.add(layers.Dense(512, activation='relu'))\n",
    "model0.add(layers.Dense(1,activation='sigmoid'))"
   ]
  },
  {
   "cell_type": "code",
   "execution_count": 7,
   "id": "35af7bde",
   "metadata": {},
   "outputs": [
    {
     "name": "stdout",
     "output_type": "stream",
     "text": [
      "Model: \"sequential\"\n",
      "_________________________________________________________________\n",
      " Layer (type)                Output Shape              Param #   \n",
      "=================================================================\n",
      " conv2d (Conv2D)             (None, 260, 260, 32)      896       \n",
      "                                                                 \n",
      " max_pooling2d (MaxPooling2  (None, 130, 130, 32)      0         \n",
      " D)                                                              \n",
      "                                                                 \n",
      " conv2d_1 (Conv2D)           (None, 128, 128, 64)      18496     \n",
      "                                                                 \n",
      " max_pooling2d_1 (MaxPoolin  (None, 64, 64, 64)        0         \n",
      " g2D)                                                            \n",
      "                                                                 \n",
      " conv2d_2 (Conv2D)           (None, 62, 62, 128)       73856     \n",
      "                                                                 \n",
      " max_pooling2d_2 (MaxPoolin  (None, 31, 31, 128)       0         \n",
      " g2D)                                                            \n",
      "                                                                 \n",
      " conv2d_3 (Conv2D)           (None, 29, 29, 128)       147584    \n",
      "                                                                 \n",
      " max_pooling2d_3 (MaxPoolin  (None, 14, 14, 128)       0         \n",
      " g2D)                                                            \n",
      "                                                                 \n",
      " flatten (Flatten)           (None, 25088)             0         \n",
      "                                                                 \n",
      " dense (Dense)               (None, 512)               12845568  \n",
      "                                                                 \n",
      " dense_1 (Dense)             (None, 1)                 513       \n",
      "                                                                 \n",
      "=================================================================\n",
      "Total params: 13086913 (49.92 MB)\n",
      "Trainable params: 13086913 (49.92 MB)\n",
      "Non-trainable params: 0 (0.00 Byte)\n",
      "_________________________________________________________________\n"
     ]
    }
   ],
   "source": [
    "model0.summary()"
   ]
  },
  {
   "cell_type": "code",
   "execution_count": 8,
   "id": "5b8dfd1b",
   "metadata": {},
   "outputs": [],
   "source": [
    "model0.compile(optimizer='adam',\n",
    "              loss='binary_crossentropy',\n",
    "              metrics=['accuracy'])"
   ]
  },
  {
   "cell_type": "code",
   "execution_count": 9,
   "id": "45a6fe73",
   "metadata": {},
   "outputs": [
    {
     "name": "stdout",
     "output_type": "stream",
     "text": [
      "Epoch 1/10\n",
      "50/50 [==============================] - 43s 848ms/step - loss: 0.7651 - accuracy: 0.5674 - val_loss: 0.6914 - val_accuracy: 0.3814\n",
      "Epoch 2/10\n",
      "50/50 [==============================] - 43s 867ms/step - loss: 0.6349 - accuracy: 0.6590 - val_loss: 0.6779 - val_accuracy: 0.7113\n",
      "Epoch 3/10\n",
      "50/50 [==============================] - 51s 1s/step - loss: 0.5029 - accuracy: 0.8295 - val_loss: 0.3732 - val_accuracy: 0.8969\n",
      "Epoch 4/10\n",
      "50/50 [==============================] - 45s 898ms/step - loss: 0.2617 - accuracy: 0.9160 - val_loss: 0.4416 - val_accuracy: 0.8969\n",
      "Epoch 5/10\n",
      "50/50 [==============================] - 42s 844ms/step - loss: 0.2777 - accuracy: 0.8957 - val_loss: 0.4866 - val_accuracy: 0.8454\n",
      "Epoch 6/10\n",
      "50/50 [==============================] - 43s 852ms/step - loss: 0.3043 - accuracy: 0.8779 - val_loss: 0.4747 - val_accuracy: 0.8557\n",
      "Epoch 7/10\n",
      "50/50 [==============================] - 42s 831ms/step - loss: 0.1913 - accuracy: 0.9389 - val_loss: 0.3220 - val_accuracy: 0.8969\n",
      "Epoch 8/10\n",
      "50/50 [==============================] - 41s 824ms/step - loss: 0.1656 - accuracy: 0.9364 - val_loss: 0.3647 - val_accuracy: 0.8969\n",
      "Epoch 9/10\n",
      "50/50 [==============================] - 42s 831ms/step - loss: 0.1535 - accuracy: 0.9517 - val_loss: 0.4798 - val_accuracy: 0.8454\n",
      "Epoch 10/10\n",
      "50/50 [==============================] - 44s 876ms/step - loss: 0.1526 - accuracy: 0.9313 - val_loss: 0.3523 - val_accuracy: 0.9278\n"
     ]
    }
   ],
   "source": [
    "history = model0.fit(train_set,\n",
    "          validation_data=val_set,\n",
    "          epochs=10)"
   ]
  },
  {
   "cell_type": "code",
   "execution_count": 11,
   "id": "a4526cd5",
   "metadata": {},
   "outputs": [
    {
     "data": {
      "text/plain": [
       "<matplotlib.legend.Legend at 0x26f926d6da0>"
      ]
     },
     "execution_count": 11,
     "metadata": {},
     "output_type": "execute_result"
    },
    {
     "data": {
      "image/png": "[encoded data removed]",
      "text/plain": [
       "<Figure size 640x480 with 1 Axes>"
      ]
     },
     "metadata": {},
     "output_type": "display_data"
    }
   ],
   "source": [
    "plt.plot(history.history['accuracy'])\n",
    "plt.plot(history.history['val_accuracy'])\n",
    "plt.title('Model Accuracy')\n",
    "plt.xlabel('Epochs')\n",
    "plt.ylabel('Accuracy')\n",
    "plt.legend(['Acc','Val'], loc = 'upper left')"
   ]
  },
  {
   "cell_type": "code",
   "execution_count": 13,
   "id": "d198f83f",
   "metadata": {},
   "outputs": [
    {
     "name": "stdout",
     "output_type": "stream",
     "text": [
      "62/62 [==============================] - 7s 116ms/step - loss: 0.1696 - accuracy: 0.9490\n",
      "[0.16957908868789673, 0.9489796161651611]\n",
      "Error on testing dataset:  0.16957908868789673\n",
      "Accuracy on testing dataset:  0.9489796161651611\n"
     ]
    }
   ],
   "source": [
    "result=model0.evaluate(test_set)\n",
    "print(result)\n",
    "\n",
    "print('Error on testing dataset: ', result[0])\n",
    "print('Accuracy on testing dataset: ', result[1])"
   ]
  },
  {
   "cell_type": "code",
   "execution_count": 16,
   "id": "a59fb845",
   "metadata": {},
   "outputs": [],
   "source": [
    "model0.save('Jwellary_classifier.h5')"
   ]
  },
  {
   "cell_type": "code",
   "execution_count": null,
   "id": "6016c812",
   "metadata": {},
   "outputs": [],
   "source": []
  }
 ],
 "metadata": {
  "kernelspec": {
   "display_name": "Python 3 (ipykernel)",
   "language": "python",
   "name": "python3"
  },
  "language_info": {
   "codemirror_mode": {
    "name": "ipython",
    "version": 3
   },
   "file_extension": ".py",
   "mimetype": "text/x-python",
   "name": "python",
   "nbconvert_exporter": "python",
   "pygments_lexer": "ipython3",
   "version": "3.10.11"
  }
 },
 "nbformat": 4,
 "nbformat_minor": 5
}
